{
  "nbformat": 4,
  "nbformat_minor": 0,
  "metadata": {
    "colab": {
      "provenance": [],
      "authorship_tag": "ABX9TyNXQqkuxaHyGoMFVBCFZzV4",
      "include_colab_link": true
    },
    "kernelspec": {
      "name": "python3",
      "display_name": "Python 3"
    },
    "language_info": {
      "name": "python"
    }
  },
  "cells": [
    {
      "cell_type": "markdown",
      "metadata": {
        "id": "view-in-github",
        "colab_type": "text"
      },
      "source": [
        "<a href=\"https://colab.research.google.com/github/PurvanshBarodia/Coding/blob/main/Assignment_Questions_1_.ipynb\" target=\"_parent\"><img src=\"https://colab.research.google.com/assets/colab-badge.svg\" alt=\"Open In Colab\"/></a>"
      ]
    },
    {
      "cell_type": "markdown",
      "source": [
        "<aside>\n",
        "💡 **Q1.** Given an array of integers nums and an integer target, return indices of the two numbers such that they add up to target.\n",
        "\n",
        "You may assume that each input would have exactly one solution, and you may not use the same element twice.\n",
        "\n",
        "You can return the answer in any order.\n",
        "\n",
        "**Example:**\n",
        "Input: nums = [2,7,11,15], target = 9\n",
        "Output0 [0,1]\n",
        "\n",
        "**Explanation:** Because nums[0] + nums[1] == 9, we return [0, 1][\n",
        "\n",
        "</aside>"
      ],
      "metadata": {
        "id": "HESWCwi47xAr"
      }
    },
    {
      "cell_type": "code",
      "source": [
        "def sum_two(arr,target):\n",
        "  number_visited = {}\n",
        "  for i in range(len(arr)):\n",
        "    num_looking_for = target - arr[i]\n",
        "    if num_looking_for in number_visited:\n",
        "      return [i,number_visited[num_looking_for]]\n",
        "    else:\n",
        "      number_visited[arr[i]] = i\n",
        "\n",
        "if __name__ == \"__main__\":\n",
        "  input_arr = list(map(int,input(\"Enter space seprated arr values\").split(\" \")))\n",
        "  target = int(input(\"Enter target value: \"))\n",
        "  output = sum_two(input_arr,target)\n",
        "  print(output)"
      ],
      "metadata": {
        "colab": {
          "base_uri": "https://localhost:8080/"
        },
        "id": "FeD1fMvc8Hfo",
        "outputId": "e9560298-df77-449f-a9f5-9973b84584cd"
      },
      "execution_count": 3,
      "outputs": [
        {
          "output_type": "stream",
          "name": "stdout",
          "text": [
            "Enter space seprated arr values2 7 11 15\n",
            "Enter target value: 9\n",
            "[1, 0]\n"
          ]
        }
      ]
    },
    {
      "cell_type": "markdown",
      "source": [
        "<aside>\n",
        "💡 **Q2.** Given an integer array nums and an integer val, remove all occurrences of val in nums in-place. The order of the elements may be changed. Then return the number of elements in nums which are not equal to val.\n",
        "\n",
        "Consider the number of elements in nums which are not equal to val be k, to get accepted, you need to do the following things:\n",
        "\n",
        "- Change the array nums such that the first k elements of nums contain the elements which are not equal to val. The remaining elements of nums are not important as well as the size of nums.\n",
        "- Return k.\n",
        "\n",
        "**Example :**\n",
        "Input: nums = [3,2,2,3], val = 3\n",
        "Output: 2, nums = [2,2,_*,_*]\n",
        "\n",
        "**Explanation:** Your function should return k = 2, with the first two elements of nums being 2. It does not matter what you leave beyond the returned k (hence they are underscores)[\n",
        "\n",
        "</aside>"
      ],
      "metadata": {
        "id": "OCNCSiVadIVg"
      }
    },
    {
      "cell_type": "code",
      "source": [
        "def swap(arr,ele1,ele2):\n",
        "  arr[ele1],arr[ele2] = arr[ele2],arr[ele1]\n",
        "\n",
        "def move_val(arr,val):\n",
        "  last = 0\n",
        "  for i in range(len(arr)):\n",
        "    if arr[i]!=val:\n",
        "      arr[last]=arr[i]\n",
        "      last+=1\n",
        "  return last\n",
        "\n",
        "\n",
        "\n",
        "if __name__ == '__main__':\n",
        "  input_arr = list(map(int,input(\"Enter arr values: \").split(\" \")))\n",
        "  val = int(input(\"Enter value of Val\"))\n",
        "  output = move_val(input_arr,val)\n",
        "  print(output)\n",
        "  print(input_arr)\n"
      ],
      "metadata": {
        "colab": {
          "base_uri": "https://localhost:8080/"
        },
        "id": "A-NsF2gqtRVs",
        "outputId": "4e8977a8-b630-47d3-82b6-6b9b82506915"
      },
      "execution_count": 5,
      "outputs": [
        {
          "output_type": "stream",
          "name": "stdout",
          "text": [
            "Enter arr values: 3 2 2 3\n",
            "Enter value of Val3\n",
            "2\n",
            "[2, 2, 2, 3]\n"
          ]
        }
      ]
    },
    {
      "cell_type": "markdown",
      "source": [
        "<aside>\n",
        "💡 **Q3.** Given a sorted array of distinct integers and a target value, return the index if the target is found. If not, return the index where it would be if it were inserted in order.\n",
        "\n",
        "You must write an algorithm with O(log n) runtime complexity.\n",
        "\n",
        "**Example 1:**\n",
        "Input: nums = [1,3,5,6], target = 5\n",
        "\n",
        "Output: 2\n",
        "\n",
        "</aside>"
      ],
      "metadata": {
        "id": "4WHX3nsuvxks"
      }
    },
    {
      "cell_type": "code",
      "source": [
        "def find_index(arr,target):\n",
        "  # we will use binary search here as array is already sorted\n",
        "  left = 0\n",
        "  right = len(arr)-1\n",
        "\n",
        "  while left<=right:\n",
        "    mid = (left + right)//2\n",
        "    if arr[mid]==target:\n",
        "      return mid\n",
        "    elif target<arr[mid]:\n",
        "      right = mid-1\n",
        "    else:\n",
        "      left = mid+1\n",
        "\n",
        "  return left\n",
        "\n",
        "if __name__ == '__main__':\n",
        "  input_arr = list(map(int,input(\"Enter arr values: \").split(\" \")))\n",
        "  target = int(input(\"Enter target value: \"))\n",
        "  output = find_index(input_arr,target)\n",
        "  print(output)\n",
        "\n"
      ],
      "metadata": {
        "colab": {
          "base_uri": "https://localhost:8080/"
        },
        "id": "GYVHDb0WDt94",
        "outputId": "e00be25c-dc34-44b4-f7bc-a19a5430d34b"
      },
      "execution_count": 2,
      "outputs": [
        {
          "output_type": "stream",
          "name": "stdout",
          "text": [
            "Enter arr values: 1 3 5 6\n",
            "Enter target value: 5\n",
            "2\n"
          ]
        }
      ]
    },
    {
      "cell_type": "markdown",
      "source": [
        "<aside>\n",
        "💡 **Q4.** You are given a large integer represented as an integer array digits, where each digits[i] is the ith digit of the integer. The digits are ordered from most significant to least significant in left-to-right order. The large integer does not contain any leading 0's.\n",
        "\n",
        "Increment the large integer by one and return the resulting array of digits.\n",
        "\n",
        "**Example 1:**\n",
        "Input: digits = [1,2,3]\n",
        "Output: [1,2,4]\n",
        "\n",
        "**Explanation:** The array represents the integer 123.\n",
        "\n",
        "Incrementing by one gives 123 + 1 = 124.\n",
        "Thus, the result should be [1,2,4].\n",
        "\n",
        "</aside>"
      ],
      "metadata": {
        "id": "Dpo3QUHqIvRD"
      }
    },
    {
      "cell_type": "code",
      "source": [
        "def add_one(arr):\n",
        "  i = len(arr)-1\n",
        "  while i>=0:\n",
        "    if arr[i]<9:\n",
        "      arr[i]+=1\n",
        "      return arr\n",
        "    else:\n",
        "      arr[i]=0\n",
        "    i-=1\n",
        "  return [1]+arr\n",
        "\n",
        "if __name__ == '__main__':\n",
        "  input_arr = list(map(int,input(\"Enter arr values: \").split(\" \")))\n",
        "  output_arr = add_one(input_arr)\n",
        "  print(output_arr)\n",
        "\n"
      ],
      "metadata": {
        "colab": {
          "base_uri": "https://localhost:8080/"
        },
        "id": "PSkuRyplJWdA",
        "outputId": "5a8728d2-d9bb-412d-9762-ccca8ea9cd99"
      },
      "execution_count": 12,
      "outputs": [
        {
          "output_type": "stream",
          "name": "stdout",
          "text": [
            "Enter arr values: 9 9 9\n",
            "[1, 0, 0, 0]\n"
          ]
        }
      ]
    },
    {
      "cell_type": "markdown",
      "source": [
        "<aside>\n",
        "💡 **Q5.** You are given two integer arrays nums1 and nums2, sorted in non-decreasing order, and two integers m and n, representing the number of elements in nums1 and nums2 respectively.\n",
        "\n",
        "Merge nums1 and nums2 into a single array sorted in non-decreasing order.\n",
        "\n",
        "The final sorted array should not be returned by the function, but instead be stored inside the array nums1. To accommodate this, nums1 has a length of m + n, where the first m elements denote the elements that should be merged, and the last n elements are set to 0 and should be ignored. nums2 has a length of n.\n",
        "\n",
        "**Example 1:**\n",
        "Input: nums1 = [1,2,3,0,0,0], m = 3, nums2 = [2,5,6], n = 3\n",
        "Output: [1,2,2,3,5,6]\n",
        "\n",
        "**Explanation:** The arrays we are merging are [1,2,3] and [2,5,6].\n",
        "The result of the merge is [1,2,2,3,5,6] with the underlined elements coming from nums1.\n",
        "\n",
        "</aside>"
      ],
      "metadata": {
        "id": "-0YdHwyRM0fT"
      }
    },
    {
      "cell_type": "code",
      "source": [
        "def merge_sorted_array(arr1,m,arr2,n):\n",
        "  left = m-1\n",
        "  end = len(arr1)-1\n",
        "  right = n-1\n",
        "\n",
        "  while left>=0 and right>=0:\n",
        "    if arr1[left]<=arr2[right]:\n",
        "      arr1[end] = arr2[right]\n",
        "      right-=1\n",
        "    else:\n",
        "      arr1[end] = arr1[left]\n",
        "      left-=1\n",
        "    end-=1\n",
        "  if right>=0:\n",
        "    arr1[0:right+1]=arr2[0:right+1]\n",
        "  return arr1\n",
        "\n",
        "if __name__ == '__main__':\n",
        "  input_arr1 = list(map(int,input(\"Enter arr1 values: \").split(\" \")))\n",
        "  len_arr1 = int(input(\"Enter length of arr1: \"))\n",
        "  input_arr2 = list(map(int,input(\"Enter arr2 values: \").split(\" \")))\n",
        "  len_arr2 = int(input(\"Enter length of arr2: \"))\n",
        "\n",
        "  output_arr = merge_sorted_array(input_arr1,len_arr1,input_arr2,len_arr2)\n",
        "  print(output_arr)\n"
      ],
      "metadata": {
        "colab": {
          "base_uri": "https://localhost:8080/"
        },
        "id": "VvPgZ6ePX5un",
        "outputId": "f7b483b4-d53c-4f66-a1e3-db60888000a2"
      },
      "execution_count": 11,
      "outputs": [
        {
          "output_type": "stream",
          "name": "stdout",
          "text": [
            "Enter arr1 values: 1 2 3 0 0 0\n",
            "Enter length of arr1: 3\n",
            "Enter arr2 values: 2 5 6\n",
            "Enter length of arr2: 3\n",
            "[1, 2, 2, 3, 5, 6]\n"
          ]
        }
      ]
    },
    {
      "cell_type": "markdown",
      "source": [
        "<aside>\n",
        "💡 **Q6.** Given an integer array nums, return true if any value appears at least twice in the array, and return false if every element is distinct.\n",
        "\n",
        "**Example 1:**\n",
        "Input: nums = [1,2,3,1]\n",
        "\n",
        "Output: true\n",
        "\n",
        "</aside>"
      ],
      "metadata": {
        "id": "rgAziqrLamsA"
      }
    },
    {
      "cell_type": "code",
      "source": [
        "def is_distinct(arr):\n",
        "  item_set = set()\n",
        "  for i in arr:\n",
        "    if i in item_set:\n",
        "      return True\n",
        "    else:\n",
        "      item_set.add(i)\n",
        "  return False\n",
        "\n",
        "if __name__ == '__main__':\n",
        "  input_arr = list(map(int,input(\"Enter arr values: \").split(\" \")))\n",
        "  output = is_distinct(input_arr)\n",
        "  print(output)"
      ],
      "metadata": {
        "colab": {
          "base_uri": "https://localhost:8080/"
        },
        "id": "qEsD6L0LI7cl",
        "outputId": "a8c75a82-39e3-4c72-c031-e0d0012ff9eb"
      },
      "execution_count": 12,
      "outputs": [
        {
          "output_type": "stream",
          "name": "stdout",
          "text": [
            "Enter arr values: 1 2 3 1\n",
            "True\n"
          ]
        }
      ]
    },
    {
      "cell_type": "markdown",
      "source": [
        "<aside>\n",
        "💡 **Q7.** Given an integer array nums, move all 0's to the end of it while maintaining the relative order of the nonzero elements.\n",
        "\n",
        "Note that you must do this in-place without making a copy of the array.\n",
        "\n",
        "**Example 1:**\n",
        "Input: nums = [0,1,0,3,12]\n",
        "Output: [1,3,12,0,0]\n",
        "\n",
        "</aside>"
      ],
      "metadata": {
        "id": "a51jQ1I5JuII"
      }
    },
    {
      "cell_type": "code",
      "source": [
        "def move_zeros(arr):\n",
        "  start=0\n",
        "  for i in range(len(arr)):\n",
        "    if arr[i]!=0:\n",
        "      arr[i],arr[start] = arr[start],arr[i]\n",
        "      start+=1\n",
        "  return arr\n",
        "\n",
        "if __name__ == '__main__':\n",
        "  input_arr = list(map(int,input(\"Enter arr values: \").split(\" \")))\n",
        "  output_arr = move_zeros(input_arr)\n",
        "  print(output_arr)"
      ],
      "metadata": {
        "colab": {
          "base_uri": "https://localhost:8080/"
        },
        "id": "wBwrIUG5J8uF",
        "outputId": "fd26b125-5091-4f49-9384-bad1d428af4e"
      },
      "execution_count": 13,
      "outputs": [
        {
          "output_type": "stream",
          "name": "stdout",
          "text": [
            "Enter arr values: 0 1 0 3 12\n",
            "[1, 3, 12, 0, 0]\n"
          ]
        }
      ]
    },
    {
      "cell_type": "markdown",
      "source": [
        "<aside>\n",
        "💡 **Q8.** You have a set of integers s, which originally contains all the numbers from 1 to n. Unfortunately, due to some error, one of the numbers in s got duplicated to another number in the set, which results in repetition of one number and loss of another number.\n",
        "\n",
        "You are given an integer array nums representing the data status of this set after the error.\n",
        "\n",
        "Find the number that occurs twice and the number that is missing and return them in the form of an array.\n",
        "\n",
        "**Example 1:**\n",
        "Input: nums = [1,2,2,4]\n",
        "Output: [2,3]\n",
        "\n",
        "</aside>"
      ],
      "metadata": {
        "id": "WwrmyoIMLrPy"
      }
    },
    {
      "cell_type": "code",
      "source": [
        "def missing_num(arr):\n",
        "  memset= set()\n",
        "  for i in arr:\n",
        "    if i in memset:\n",
        "      ele = i\n",
        "    else:\n",
        "      memset.add(i)\n",
        "\n",
        "  for j in range(1,len(arr)+1):\n",
        "    if j not in memset:\n",
        "      return [ele,j]\n",
        "\n",
        "if __name__ == '__main__':\n",
        "  input_arr = list(map(int,input(\"Enter arr value: \").split(\" \")))\n",
        "  output = missing_num(input_arr)\n",
        "  print(output)"
      ],
      "metadata": {
        "colab": {
          "base_uri": "https://localhost:8080/"
        },
        "id": "uj4BFydCVLnW",
        "outputId": "60352258-1769-4aca-eb44-38b7e252ea89"
      },
      "execution_count": 15,
      "outputs": [
        {
          "output_type": "stream",
          "name": "stdout",
          "text": [
            "Enter arr value: 1 2 2 4\n",
            "[2, 3]\n"
          ]
        }
      ]
    },
    {
      "cell_type": "code",
      "source": [],
      "metadata": {
        "id": "LsLDDJV3WvoG"
      },
      "execution_count": null,
      "outputs": []
    }
  ]
}